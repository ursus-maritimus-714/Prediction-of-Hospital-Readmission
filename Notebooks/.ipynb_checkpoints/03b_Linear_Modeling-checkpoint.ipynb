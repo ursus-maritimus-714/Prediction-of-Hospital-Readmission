{
 "cells": [
  {
   "cell_type": "markdown",
   "id": "a4de348c",
   "metadata": {},
   "source": [
    "### Imports"
   ]
  },
  {
   "cell_type": "code",
   "execution_count": 1,
   "id": "30a0eade",
   "metadata": {},
   "outputs": [],
   "source": [
    "import pandas as pd\n",
    "import numpy as np\n",
    "import os\n",
    "import pickle\n",
    "import matplotlib.pyplot as plt\n",
    "import seaborn as sns\n",
    "from sklearn import __version__ as sklearn_version\n",
    "from sklearn.decomposition import PCA\n",
    "from sklearn.preprocessing import scale\n",
    "from sklearn.model_selection import train_test_split, cross_validate, GridSearchCV, learning_curve\n",
    "from sklearn.preprocessing import StandardScaler, MinMaxScaler\n",
    "from sklearn.dummy import DummyRegressor\n",
    "from sklearn.linear_model import LinearRegression\n",
    "from sklearn.ensemble import GradientBoostingRegressor\n",
    "from sklearn.metrics import r2_score, mean_squared_error, mean_absolute_error\n",
    "from sklearn.pipeline import make_pipeline\n",
    "from sklearn.impute import SimpleImputer\n",
    "from sklearn.feature_selection import SelectKBest, f_regression\n",
    "import datetime"
   ]
  },
  {
   "cell_type": "code",
   "execution_count": 2,
   "id": "76ead8e6",
   "metadata": {},
   "outputs": [],
   "source": [
    "from library.sb_utils import save_file"
   ]
  },
  {
   "cell_type": "markdown",
   "id": "95fb81fe",
   "metadata": {},
   "source": [
    "### Load Data"
   ]
  },
  {
   "cell_type": "code",
   "execution_count": 3,
   "id": "3ffe3c42",
   "metadata": {},
   "outputs": [
    {
     "data": {
      "text/html": [
       "<div>\n",
       "<style scoped>\n",
       "    .dataframe tbody tr th:only-of-type {\n",
       "        vertical-align: middle;\n",
       "    }\n",
       "\n",
       "    .dataframe tbody tr th {\n",
       "        vertical-align: top;\n",
       "    }\n",
       "\n",
       "    .dataframe thead th {\n",
       "        text-align: right;\n",
       "    }\n",
       "</style>\n",
       "<table border=\"1\" class=\"dataframe\">\n",
       "  <thead>\n",
       "    <tr style=\"text-align: right;\">\n",
       "      <th></th>\n",
       "      <th>Facility_ID</th>\n",
       "      <th>City</th>\n",
       "      <th>State</th>\n",
       "      <th>County</th>\n",
       "      <th>Total_Admissions</th>\n",
       "      <th>ReadmissionRate</th>\n",
       "      <th>HAI_1_SIR</th>\n",
       "      <th>HAI_2_SIR</th>\n",
       "      <th>HAI_5_SIR</th>\n",
       "      <th>HAI_6_SIR</th>\n",
       "      <th>...</th>\n",
       "      <th>ED_MEDIAN_VISIT_MINS</th>\n",
       "      <th>ED_LEFT_NOT_SEEN_%</th>\n",
       "      <th>ED_VOLUME</th>\n",
       "      <th>%_SEPSIS_CARE</th>\n",
       "      <th>%_HCWs_FLU_VAX</th>\n",
       "      <th>2018to2020_PCPI</th>\n",
       "      <th>Population_2019</th>\n",
       "      <th>MEDIAN_AGE_TOT</th>\n",
       "      <th>County_Facilities</th>\n",
       "      <th>Pop/Hosp</th>\n",
       "    </tr>\n",
       "  </thead>\n",
       "  <tbody>\n",
       "    <tr>\n",
       "      <th>0</th>\n",
       "      <td>010001</td>\n",
       "      <td>DOTHAN</td>\n",
       "      <td>AL</td>\n",
       "      <td>Houston</td>\n",
       "      <td>1805</td>\n",
       "      <td>15.5</td>\n",
       "      <td>0.555</td>\n",
       "      <td>0.289</td>\n",
       "      <td>0.871</td>\n",
       "      <td>0.604</td>\n",
       "      <td>...</td>\n",
       "      <td>168.0</td>\n",
       "      <td>3.0</td>\n",
       "      <td>3.0</td>\n",
       "      <td>60.0</td>\n",
       "      <td>99.0</td>\n",
       "      <td>44661.000000</td>\n",
       "      <td>105882.0</td>\n",
       "      <td>40.0</td>\n",
       "      <td>2</td>\n",
       "      <td>52941.000</td>\n",
       "    </tr>\n",
       "    <tr>\n",
       "      <th>1</th>\n",
       "      <td>010005</td>\n",
       "      <td>BOAZ</td>\n",
       "      <td>AL</td>\n",
       "      <td>Marshall</td>\n",
       "      <td>764</td>\n",
       "      <td>14.7</td>\n",
       "      <td>1.650</td>\n",
       "      <td>1.055</td>\n",
       "      <td>2.780</td>\n",
       "      <td>0.601</td>\n",
       "      <td>...</td>\n",
       "      <td>139.0</td>\n",
       "      <td>2.0</td>\n",
       "      <td>4.0</td>\n",
       "      <td>60.0</td>\n",
       "      <td>93.0</td>\n",
       "      <td>37982.666667</td>\n",
       "      <td>96774.0</td>\n",
       "      <td>38.9</td>\n",
       "      <td>1</td>\n",
       "      <td>96774.000</td>\n",
       "    </tr>\n",
       "    <tr>\n",
       "      <th>2</th>\n",
       "      <td>010006</td>\n",
       "      <td>FLORENCE</td>\n",
       "      <td>AL</td>\n",
       "      <td>Lauderdale</td>\n",
       "      <td>1563</td>\n",
       "      <td>15.7</td>\n",
       "      <td>0.987</td>\n",
       "      <td>0.442</td>\n",
       "      <td>1.232</td>\n",
       "      <td>0.212</td>\n",
       "      <td>...</td>\n",
       "      <td>182.0</td>\n",
       "      <td>1.0</td>\n",
       "      <td>3.0</td>\n",
       "      <td>32.0</td>\n",
       "      <td>82.0</td>\n",
       "      <td>38525.333333</td>\n",
       "      <td>92729.0</td>\n",
       "      <td>41.6</td>\n",
       "      <td>1</td>\n",
       "      <td>92729.000</td>\n",
       "    </tr>\n",
       "    <tr>\n",
       "      <th>3</th>\n",
       "      <td>010011</td>\n",
       "      <td>BIRMINGHAM</td>\n",
       "      <td>AL</td>\n",
       "      <td>Jefferson</td>\n",
       "      <td>918</td>\n",
       "      <td>16.3</td>\n",
       "      <td>0.424</td>\n",
       "      <td>0.993</td>\n",
       "      <td>0.802</td>\n",
       "      <td>0.359</td>\n",
       "      <td>...</td>\n",
       "      <td>174.0</td>\n",
       "      <td>3.0</td>\n",
       "      <td>3.0</td>\n",
       "      <td>30.0</td>\n",
       "      <td>76.0</td>\n",
       "      <td>56600.000000</td>\n",
       "      <td>658573.0</td>\n",
       "      <td>37.9</td>\n",
       "      <td>8</td>\n",
       "      <td>82321.625</td>\n",
       "    </tr>\n",
       "    <tr>\n",
       "      <th>4</th>\n",
       "      <td>010016</td>\n",
       "      <td>ALABASTER</td>\n",
       "      <td>AL</td>\n",
       "      <td>Shelby</td>\n",
       "      <td>808</td>\n",
       "      <td>15.4</td>\n",
       "      <td>0.315</td>\n",
       "      <td>0.547</td>\n",
       "      <td>0.847</td>\n",
       "      <td>0.498</td>\n",
       "      <td>...</td>\n",
       "      <td>208.0</td>\n",
       "      <td>2.0</td>\n",
       "      <td>2.0</td>\n",
       "      <td>63.0</td>\n",
       "      <td>94.0</td>\n",
       "      <td>57621.000000</td>\n",
       "      <td>217702.0</td>\n",
       "      <td>39.8</td>\n",
       "      <td>1</td>\n",
       "      <td>217702.000</td>\n",
       "    </tr>\n",
       "  </tbody>\n",
       "</table>\n",
       "<p>5 rows × 37 columns</p>\n",
       "</div>"
      ],
      "text/plain": [
       "  Facility_ID        City State      County  Total_Admissions  \\\n",
       "0      010001      DOTHAN    AL     Houston              1805   \n",
       "1      010005        BOAZ    AL    Marshall               764   \n",
       "2      010006    FLORENCE    AL  Lauderdale              1563   \n",
       "3      010011  BIRMINGHAM    AL   Jefferson               918   \n",
       "4      010016   ALABASTER    AL      Shelby               808   \n",
       "\n",
       "   ReadmissionRate  HAI_1_SIR  HAI_2_SIR  HAI_5_SIR  HAI_6_SIR  ...  \\\n",
       "0             15.5      0.555      0.289      0.871      0.604  ...   \n",
       "1             14.7      1.650      1.055      2.780      0.601  ...   \n",
       "2             15.7      0.987      0.442      1.232      0.212  ...   \n",
       "3             16.3      0.424      0.993      0.802      0.359  ...   \n",
       "4             15.4      0.315      0.547      0.847      0.498  ...   \n",
       "\n",
       "   ED_MEDIAN_VISIT_MINS  ED_LEFT_NOT_SEEN_%  ED_VOLUME  %_SEPSIS_CARE  \\\n",
       "0                 168.0                 3.0        3.0           60.0   \n",
       "1                 139.0                 2.0        4.0           60.0   \n",
       "2                 182.0                 1.0        3.0           32.0   \n",
       "3                 174.0                 3.0        3.0           30.0   \n",
       "4                 208.0                 2.0        2.0           63.0   \n",
       "\n",
       "   %_HCWs_FLU_VAX  2018to2020_PCPI  Population_2019  MEDIAN_AGE_TOT  \\\n",
       "0            99.0     44661.000000         105882.0            40.0   \n",
       "1            93.0     37982.666667          96774.0            38.9   \n",
       "2            82.0     38525.333333          92729.0            41.6   \n",
       "3            76.0     56600.000000         658573.0            37.9   \n",
       "4            94.0     57621.000000         217702.0            39.8   \n",
       "\n",
       "   County_Facilities    Pop/Hosp  \n",
       "0                  2   52941.000  \n",
       "1                  1   96774.000  \n",
       "2                  1   92729.000  \n",
       "3                  8   82321.625  \n",
       "4                  1  217702.000  \n",
       "\n",
       "[5 rows x 37 columns]"
      ]
     },
     "execution_count": 3,
     "metadata": {},
     "output_type": "execute_result"
    }
   ],
   "source": [
    "hosp_data = pd.read_csv('../data/main_df_post2_300.csv')\n",
    "hosp_data.head()"
   ]
  },
  {
   "cell_type": "code",
   "execution_count": 4,
   "id": "e92b8f67",
   "metadata": {},
   "outputs": [
    {
     "name": "stdout",
     "output_type": "stream",
     "text": [
      "<class 'pandas.core.frame.DataFrame'>\n",
      "RangeIndex: 2155 entries, 0 to 2154\n",
      "Data columns (total 37 columns):\n",
      " #   Column                Non-Null Count  Dtype  \n",
      "---  ------                --------------  -----  \n",
      " 0   Facility_ID           2155 non-null   object \n",
      " 1   City                  2155 non-null   object \n",
      " 2   State                 2155 non-null   object \n",
      " 3   County                2155 non-null   object \n",
      " 4   Total_Admissions      2155 non-null   int64  \n",
      " 5   ReadmissionRate       2155 non-null   float64\n",
      " 6   HAI_1_SIR             1862 non-null   float64\n",
      " 7   HAI_2_SIR             1987 non-null   float64\n",
      " 8   HAI_5_SIR             1639 non-null   float64\n",
      " 9   HAI_6_SIR             2044 non-null   float64\n",
      " 10  PSI_3                 2152 non-null   float64\n",
      " 11  PSI_6                 2152 non-null   float64\n",
      " 12  PSI_8                 2152 non-null   float64\n",
      " 13  PSI_9                 2150 non-null   float64\n",
      " 14  PSI_10                2086 non-null   float64\n",
      " 15  PSI_11                2077 non-null   float64\n",
      " 16  PSI_12                2150 non-null   float64\n",
      " 17  PSI_13                2077 non-null   float64\n",
      " 18  PSI_14                2136 non-null   float64\n",
      " 19  PSI_15                2148 non-null   float64\n",
      " 20  PSI_90                2152 non-null   float64\n",
      " 21  H_Comp_Ov             2138 non-null   float64\n",
      " 22  AMI_TA_PROP           1849 non-null   float64\n",
      " 23  COPD_TA_PROP          2120 non-null   float64\n",
      " 24  HF_TA_PROP            2133 non-null   float64\n",
      " 25  HIPKNEE_TA_PROP       2155 non-null   float64\n",
      " 26  PN_TA_PROP            2129 non-null   float64\n",
      " 27  ED_MEDIAN_VISIT_MINS  2027 non-null   float64\n",
      " 28  ED_LEFT_NOT_SEEN_%    1589 non-null   float64\n",
      " 29  ED_VOLUME             2155 non-null   float64\n",
      " 30  %_SEPSIS_CARE         2002 non-null   float64\n",
      " 31  %_HCWs_FLU_VAX        2027 non-null   float64\n",
      " 32  2018to2020_PCPI       2155 non-null   float64\n",
      " 33  Population_2019       2155 non-null   float64\n",
      " 34  MEDIAN_AGE_TOT        2155 non-null   float64\n",
      " 35  County_Facilities     2155 non-null   int64  \n",
      " 36  Pop/Hosp              2155 non-null   float64\n",
      "dtypes: float64(31), int64(2), object(4)\n",
      "memory usage: 623.1+ KB\n"
     ]
    }
   ],
   "source": [
    "hosp_data.info()"
   ]
  },
  {
   "cell_type": "markdown",
   "id": "4992b8d9",
   "metadata": {},
   "source": [
    "### Extract Target Data"
   ]
  },
  {
   "cell_type": "code",
   "execution_count": 5,
   "id": "331c9606",
   "metadata": {},
   "outputs": [],
   "source": [
    "#Our target hospital, which we will now remove for use later. \n",
    "targ_hosp = hosp_data[hosp_data.Facility_ID == '310041']"
   ]
  },
  {
   "cell_type": "code",
   "execution_count": 6,
   "id": "f123b8b3",
   "metadata": {},
   "outputs": [
    {
     "data": {
      "text/plain": [
       "(2154, 37)"
      ]
     },
     "execution_count": 6,
     "metadata": {},
     "output_type": "execute_result"
    }
   ],
   "source": [
    "#Remove targ_hosp from main dataframe for testing and training\n",
    "hosp_data = hosp_data[hosp_data.Facility_ID !='310041']\n",
    "hosp_data.shape"
   ]
  },
  {
   "cell_type": "code",
   "execution_count": 58,
   "id": "a34a26f1",
   "metadata": {},
   "outputs": [
    {
     "data": {
      "text/plain": [
       "(1507.8, 646.1999999999999)"
      ]
     },
     "execution_count": 58,
     "metadata": {},
     "output_type": "execute_result"
    }
   ],
   "source": [
    "len(hosp_data) * .7, len(hosp_data) * .3"
   ]
  },
  {
   "cell_type": "code",
   "execution_count": 59,
   "id": "5a4fb31f",
   "metadata": {},
   "outputs": [],
   "source": [
    "X_train, X_test, y_train, y_test = train_test_split(hosp_data.drop(columns='ReadmissionRate'), \n",
    "                                                    hosp_data.ReadmissionRate, test_size=0.3, \n",
    "                                                    random_state=47)"
   ]
  },
  {
   "cell_type": "code",
   "execution_count": 60,
   "id": "62e6e4fe",
   "metadata": {},
   "outputs": [
    {
     "data": {
      "text/plain": [
       "((1507,), (647,))"
      ]
     },
     "execution_count": 60,
     "metadata": {},
     "output_type": "execute_result"
    }
   ],
   "source": [
    "y_train.shape, y_test.shape"
   ]
  },
  {
   "cell_type": "code",
   "execution_count": 61,
   "id": "942f131b",
   "metadata": {},
   "outputs": [
    {
     "data": {
      "text/plain": [
       "((1507, 32), (647, 32))"
      ]
     },
     "execution_count": 61,
     "metadata": {},
     "output_type": "execute_result"
    }
   ],
   "source": [
    "#Save the 'Facility_ID', 'City', 'State', and 'County' columns from the train/test data into names_train and names_test\n",
    "#Then drop those columns from `X_train` and `X_test`. Use 'inplace=True'\n",
    "names_list = ['Facility_ID','City','State','County']\n",
    "names_train = X_train[names_list]\n",
    "names_test = X_test[names_list]\n",
    "X_train.drop(columns=names_list, inplace=True)\n",
    "X_test.drop(columns=names_list, inplace=True)\n",
    "X_train.shape, X_test.shape"
   ]
  },
  {
   "cell_type": "markdown",
   "id": "aea204c7",
   "metadata": {},
   "source": [
    "## Pre-Modeling: Mean ReadmissionRate as Predictor"
   ]
  },
  {
   "cell_type": "code",
   "execution_count": 62,
   "id": "951246f8",
   "metadata": {},
   "outputs": [
    {
     "data": {
      "text/plain": [
       "15.525812873258122"
      ]
     },
     "execution_count": 62,
     "metadata": {},
     "output_type": "execute_result"
    }
   ],
   "source": [
    "#Target feature (ReadmissionRate) Training set mean\n",
    "train_mean = y_train.mean()\n",
    "train_mean"
   ]
  },
  {
   "cell_type": "code",
   "execution_count": 63,
   "id": "d2749b72",
   "metadata": {},
   "outputs": [
    {
     "data": {
      "text/plain": [
       "array([[15.52581287]])"
      ]
     },
     "execution_count": 63,
     "metadata": {},
     "output_type": "execute_result"
    }
   ],
   "source": [
    "#Fitting dummy regressor to training data (from sklearn). Outputs the training set mean.\n",
    "dumb_reg = DummyRegressor(strategy='mean')\n",
    "dumb_reg.fit(X_train, y_train)\n",
    "dumb_reg.constant_"
   ]
  },
  {
   "cell_type": "code",
   "execution_count": 64,
   "id": "5987ea94",
   "metadata": {},
   "outputs": [
    {
     "data": {
      "text/plain": [
       "array([15.52581287, 15.52581287, 15.52581287, 15.52581287, 15.52581287])"
      ]
     },
     "execution_count": 64,
     "metadata": {},
     "output_type": "execute_result"
    }
   ],
   "source": [
    "y_tr_pred = dumb_reg.predict(X_train)\n",
    "y_tr_pred[:5]"
   ]
  },
  {
   "cell_type": "code",
   "execution_count": 65,
   "id": "db364414",
   "metadata": {},
   "outputs": [],
   "source": [
    "y_te_pred = train_mean * np.ones(len(y_test))"
   ]
  },
  {
   "cell_type": "markdown",
   "id": "a0d8fd9c",
   "metadata": {},
   "source": [
    "#### R-Squared"
   ]
  },
  {
   "cell_type": "code",
   "execution_count": 66,
   "id": "f64bfe30",
   "metadata": {},
   "outputs": [
    {
     "data": {
      "text/plain": [
       "(0.0, -0.005591684526770502)"
      ]
     },
     "execution_count": 66,
     "metadata": {},
     "output_type": "execute_result"
    }
   ],
   "source": [
    "#Compute R-squared for target mean on training set (will be zero, since we are calculating mean on training set), and on test set (should be slightl different from zero)\n",
    "r2_score(y_train, y_tr_pred), r2_score(y_test, y_te_pred)"
   ]
  },
  {
   "cell_type": "markdown",
   "id": "f14f3ec9",
   "metadata": {},
   "source": [
    "#### Mean Absolute Error"
   ]
  },
  {
   "cell_type": "code",
   "execution_count": 67,
   "id": "3c05e5c0",
   "metadata": {},
   "outputs": [
    {
     "data": {
      "text/plain": [
       "(0.6263015020811968, 0.6681208456363863)"
      ]
     },
     "execution_count": 67,
     "metadata": {},
     "output_type": "execute_result"
    }
   ],
   "source": [
    "mean_absolute_error(y_train, y_tr_pred), mean_absolute_error(y_test, y_te_pred)"
   ]
  },
  {
   "cell_type": "markdown",
   "id": "53cdd5c1",
   "metadata": {},
   "source": [
    "#### Mean Squared Error"
   ]
  },
  {
   "cell_type": "code",
   "execution_count": 68,
   "id": "2e3c39cb",
   "metadata": {},
   "outputs": [
    {
     "data": {
      "text/plain": [
       "(0.6977610346584332, 0.8017136271208585)"
      ]
     },
     "execution_count": 68,
     "metadata": {},
     "output_type": "execute_result"
    }
   ],
   "source": [
    "#Calculate the Mean Squared Error (simply, the average of the square of the errors. Used commonly for optimizing machine learning errors)\n",
    "mean_squared_error(y_train, y_tr_pred), mean_squared_error(y_test, y_te_pred)"
   ]
  },
  {
   "cell_type": "markdown",
   "id": "6ec52b78",
   "metadata": {},
   "source": [
    "## Linear Model"
   ]
  },
  {
   "cell_type": "code",
   "execution_count": 69,
   "id": "fa84f5f3",
   "metadata": {},
   "outputs": [],
   "source": [
    "pipe = make_pipeline(\n",
    "    SimpleImputer(strategy='median'), \n",
    "    StandardScaler(),\n",
    "    SelectKBest(f_regression),\n",
    "    LinearRegression()\n",
    ")"
   ]
  },
  {
   "cell_type": "code",
   "execution_count": 70,
   "id": "8615c36a",
   "metadata": {},
   "outputs": [
    {
     "data": {
      "text/plain": [
       "dict_keys(['memory', 'steps', 'verbose', 'simpleimputer', 'standardscaler', 'selectkbest', 'linearregression', 'simpleimputer__add_indicator', 'simpleimputer__copy', 'simpleimputer__fill_value', 'simpleimputer__missing_values', 'simpleimputer__strategy', 'simpleimputer__verbose', 'standardscaler__copy', 'standardscaler__with_mean', 'standardscaler__with_std', 'selectkbest__k', 'selectkbest__score_func', 'linearregression__copy_X', 'linearregression__fit_intercept', 'linearregression__n_jobs', 'linearregression__normalize', 'linearregression__positive'])"
      ]
     },
     "execution_count": 70,
     "metadata": {},
     "output_type": "execute_result"
    }
   ],
   "source": [
    "#Call `pipe`'s `get_params()` method to get a dict of available parameters and print their names\n",
    "#using dict's `keys()` method\n",
    "pipe.get_params().keys()"
   ]
  },
  {
   "cell_type": "code",
   "execution_count": 71,
   "id": "a5ebe05c",
   "metadata": {},
   "outputs": [],
   "source": [
    "k = [k+1 for k in range(len(X_train.columns))]\n",
    "grid_params = {'selectkbest__k': k}"
   ]
  },
  {
   "cell_type": "code",
   "execution_count": 72,
   "id": "a6b25954",
   "metadata": {},
   "outputs": [],
   "source": [
    "lr_grid_cv = GridSearchCV(pipe, param_grid=grid_params, cv=5, n_jobs=-1)"
   ]
  },
  {
   "cell_type": "code",
   "execution_count": 73,
   "id": "295ffde3",
   "metadata": {},
   "outputs": [
    {
     "data": {
      "text/plain": [
       "GridSearchCV(cv=5,\n",
       "             estimator=Pipeline(steps=[('simpleimputer',\n",
       "                                        SimpleImputer(strategy='median')),\n",
       "                                       ('standardscaler', StandardScaler()),\n",
       "                                       ('selectkbest',\n",
       "                                        SelectKBest(score_func=<function f_regression at 0x0000026E43AE7670>)),\n",
       "                                       ('linearregression',\n",
       "                                        LinearRegression())]),\n",
       "             n_jobs=-1,\n",
       "             param_grid={'selectkbest__k': [1, 2, 3, 4, 5, 6, 7, 8, 9, 10, 11,\n",
       "                                            12, 13, 14, 15, 16, 17, 18, 19, 20,\n",
       "                                            21, 22, 23, 24, 25, 26, 27, 28, 29,\n",
       "                                            30, ...]})"
      ]
     },
     "execution_count": 73,
     "metadata": {},
     "output_type": "execute_result"
    }
   ],
   "source": [
    "lr_grid_cv.fit(X_train, y_train)"
   ]
  },
  {
   "cell_type": "code",
   "execution_count": 74,
   "id": "6fac9219",
   "metadata": {},
   "outputs": [],
   "source": [
    "score_mean = lr_grid_cv.cv_results_['mean_test_score']\n",
    "score_std = lr_grid_cv.cv_results_['std_test_score']\n",
    "cv_k = [k for k in lr_grid_cv.cv_results_['param_selectkbest__k']]"
   ]
  },
  {
   "cell_type": "code",
   "execution_count": 75,
   "id": "bf600ccb",
   "metadata": {},
   "outputs": [
    {
     "data": {
      "text/plain": [
       "{'selectkbest__k': 23}"
      ]
     },
     "execution_count": 75,
     "metadata": {},
     "output_type": "execute_result"
    }
   ],
   "source": [
    "#Print the `best_params_` attribute of `lr_grid_cv`\n",
    "lr_grid_cv.best_params_"
   ]
  },
  {
   "cell_type": "code",
   "execution_count": 76,
   "id": "aa1156e3",
   "metadata": {},
   "outputs": [
    {
     "data": {
      "image/png": "[encoded data removed]",
      "text/plain": [
       "<Figure size 720x360 with 1 Axes>"
      ]
     },
     "metadata": {
      "needs_background": "light"
     },
     "output_type": "display_data"
    }
   ],
   "source": [
    "#Assign the value of k from the above dict of `best_params_` and assign it to `best_k`\n",
    "best_k = lr_grid_cv.best_params_['selectkbest__k']\n",
    "plt.subplots(figsize=(10, 5))\n",
    "plt.errorbar(cv_k, score_mean, yerr=score_std)\n",
    "plt.axvline(x=best_k, c='r', ls='--', alpha=.5)\n",
    "plt.xlabel('k')\n",
    "plt.ylabel('CV score (r-squared)')\n",
    "plt.title('Pipeline mean CV score (error bars +/- 1sd)');"
   ]
  },
  {
   "cell_type": "code",
   "execution_count": 77,
   "id": "f10df531",
   "metadata": {},
   "outputs": [],
   "source": [
    "selected = lr_grid_cv.best_estimator_.named_steps.selectkbest.get_support()"
   ]
  },
  {
   "cell_type": "code",
   "execution_count": 78,
   "id": "07aadd2e",
   "metadata": {},
   "outputs": [
    {
     "data": {
      "text/plain": [
       "COPD_TA_PROP         0.120547\n",
       "County_Facilities    0.057448\n",
       "Total_Admissions     0.053002\n",
       "PSI_12               0.046847\n",
       "PSI_90               0.040860\n",
       "PSI_10               0.033036\n",
       "HF_TA_PROP           0.028141\n",
       "Population_2019      0.025062\n",
       "PSI_11               0.017843\n",
       "HAI_5_SIR            0.007657\n",
       "PSI_13               0.006625\n",
       "Pop/Hosp            -0.004175\n",
       "PSI_14              -0.012294\n",
       "PSI_3               -0.021311\n",
       "PSI_15              -0.027050\n",
       "HAI_2_SIR           -0.035948\n",
       "2018to2020_PCPI     -0.046469\n",
       "%_HCWs_FLU_VAX      -0.066720\n",
       "H_Comp_Ov           -0.078907\n",
       "ED_VOLUME           -0.080035\n",
       "PN_TA_PROP          -0.135887\n",
       "AMI_TA_PROP         -0.150811\n",
       "HIPKNEE_TA_PROP     -0.151651\n",
       "dtype: float64"
      ]
     },
     "execution_count": 78,
     "metadata": {},
     "output_type": "execute_result"
    }
   ],
   "source": [
    "#Get the linear model coefficients from the `coef_` attribute and store in `coefs`,\n",
    "#get the matching feature names from the column names of the dataframe,\n",
    "#and display the results as a pandas Series with `coefs` as the values and `features` as the index,\n",
    "#sorting the values in descending order\n",
    "coefs = lr_grid_cv.best_estimator_.named_steps.linearregression.coef_\n",
    "features = X_train.columns[selected]\n",
    "pd.Series(coefs, index=features).sort_values(ascending=False)"
   ]
  },
  {
   "cell_type": "markdown",
   "id": "12730030",
   "metadata": {},
   "source": [
    "### Best Model Performance"
   ]
  },
  {
   "cell_type": "code",
   "execution_count": 79,
   "id": "171cfa9b",
   "metadata": {},
   "outputs": [],
   "source": [
    "# 'neg_mean_absolute_error' uses the (negative of) the mean absolute error\n",
    "lr_neg_mae = cross_validate(lr_grid_cv.best_estimator_, X_train, y_train, \n",
    "                            scoring='neg_mean_absolute_error', cv=5, n_jobs=-1)"
   ]
  },
  {
   "cell_type": "code",
   "execution_count": 80,
   "id": "3146c949",
   "metadata": {},
   "outputs": [
    {
     "data": {
      "text/plain": [
       "(0.5842268335810596, 0.03234160565565472)"
      ]
     },
     "execution_count": 80,
     "metadata": {},
     "output_type": "execute_result"
    }
   ],
   "source": [
    "lr_mae_mean = np.mean(-1 * lr_neg_mae['test_score'])\n",
    "lr_mae_std = np.std(-1 * lr_neg_mae['test_score'])\n",
    "lr_mae_mean, lr_mae_std"
   ]
  },
  {
   "cell_type": "code",
   "execution_count": 81,
   "id": "be35247f",
   "metadata": {},
   "outputs": [
    {
     "data": {
      "text/plain": [
       "0.6257211280765476"
      ]
     },
     "execution_count": 81,
     "metadata": {},
     "output_type": "execute_result"
    }
   ],
   "source": [
    "mean_absolute_error(y_test, lr_grid_cv.best_estimator_.predict(X_test))"
   ]
  },
  {
   "cell_type": "markdown",
   "id": "f0e3d9c7",
   "metadata": {},
   "source": [
    "## Data Quality Assessment (Linear Model)"
   ]
  },
  {
   "cell_type": "code",
   "execution_count": 82,
   "id": "46667b12",
   "metadata": {},
   "outputs": [],
   "source": [
    "fractions = [.2, .25, .3, .35, .4, .45, .5, .6, .75, .8, .9, 1.0]\n",
    "train_size, train_scores, test_scores = learning_curve(pipe, X_train, y_train, train_sizes=fractions)\n",
    "train_scores_mean = np.mean(train_scores, axis=1)\n",
    "train_scores_std = np.std(train_scores, axis=1)\n",
    "test_scores_mean = np.mean(test_scores, axis=1)\n",
    "test_scores_std = np.std(test_scores, axis=1)"
   ]
  },
  {
   "cell_type": "code",
   "execution_count": 83,
   "id": "8fe91f26",
   "metadata": {},
   "outputs": [
    {
     "data": {
      "image/png": "[encoded data removed]",
      "text/plain": [
       "<Figure size 720x360 with 1 Axes>"
      ]
     },
     "metadata": {
      "needs_background": "light"
     },
     "output_type": "display_data"
    }
   ],
   "source": [
    "plt.subplots(figsize=(10, 5))\n",
    "plt.errorbar(train_size, test_scores_mean, yerr=test_scores_std)\n",
    "plt.xlabel('Training set size')\n",
    "plt.ylabel('CV scores')\n",
    "plt.title('Cross-validation score as training set size increases');"
   ]
  },
  {
   "cell_type": "code",
   "execution_count": null,
   "id": "de0d77a7",
   "metadata": {},
   "outputs": [],
   "source": []
  }
 ],
 "metadata": {
  "kernelspec": {
   "display_name": "Python 3",
   "language": "python",
   "name": "python3"
  },
  "language_info": {
   "codemirror_mode": {
    "name": "ipython",
    "version": 3
   },
   "file_extension": ".py",
   "mimetype": "text/x-python",
   "name": "python",
   "nbconvert_exporter": "python",
   "pygments_lexer": "ipython3",
   "version": "3.8.8"
  }
 },
 "nbformat": 4,
 "nbformat_minor": 5
}
