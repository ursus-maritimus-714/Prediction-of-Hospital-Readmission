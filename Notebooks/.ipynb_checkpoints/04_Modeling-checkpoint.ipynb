{
 "cells": [
  {
   "cell_type": "markdown",
   "id": "fb3dc2e0",
   "metadata": {},
   "source": [
    "### Imports"
   ]
  },
  {
   "cell_type": "code",
   "execution_count": 70,
   "id": "b7fba90a",
   "metadata": {},
   "outputs": [],
   "source": [
    "import pandas as pd\n",
    "import numpy as np\n",
    "import os\n",
    "import pickle\n",
    "import matplotlib.pyplot as plt\n",
    "import seaborn as sns\n",
    "from sklearn import __version__ as sklearn_version\n",
    "#from sklearn.decomposition import PCA\n",
    "from sklearn.preprocessing import scale\n",
    "from sklearn.model_selection import train_test_split, cross_validate, GridSearchCV, learning_curve\n",
    "from sklearn.preprocessing import StandardScaler, MinMaxScaler\n",
    "from sklearn.dummy import DummyRegressor\n",
    "#from sklearn.linear_model import LinearRegression\n",
    "from sklearn.ensemble import RandomForestRegressor\n",
    "from sklearn.ensemble import GradientBoostingRegressor\n",
    "from sklearn.experimental import enable_hist_gradient_boosting\n",
    "from sklearn.ensemble import HistGradientBoostingRegressor\n",
    "from sklearn.metrics import r2_score, mean_squared_error, mean_absolute_error\n",
    "from sklearn.pipeline import make_pipeline\n",
    "from sklearn.impute import SimpleImputer\n",
    "#from sklearn.feature_selection import SelectKBest, f_regression\n",
    "import datetime"
   ]
  },
  {
   "cell_type": "code",
   "execution_count": 71,
   "id": "f5e6dee9",
   "metadata": {},
   "outputs": [],
   "source": [
    "from library.sb_utils import save_file"
   ]
  },
  {
   "cell_type": "markdown",
   "id": "46d74c47",
   "metadata": {},
   "source": [
    "## Load and Review Predictions from Simpler Models"
   ]
  },
  {
   "cell_type": "markdown",
   "id": "9f085777",
   "metadata": {},
   "source": [
    "In the previous step, prediction quality was evaluated for dummy regressor model (prediction based on average Readmission Rate [RR]) and a Linear Regression model. Here, these data are loaded in for comparison of quality of prediction (MAEs from dummy and best linear model)."
   ]
  },
  {
   "cell_type": "code",
   "execution_count": 72,
   "id": "109f590f",
   "metadata": {},
   "outputs": [],
   "source": [
    "#Load MAEs from dummy and best linear regression models\n",
    "with open('../data/comp_data_from3.pickle', 'rb') as f:\n",
    "    data = pickle.load(f)"
   ]
  },
  {
   "cell_type": "markdown",
   "id": "ff4ca809",
   "metadata": {},
   "source": [
    "### Review of Dummy Model Performance (Prediction With Training Average)"
   ]
  },
  {
   "cell_type": "markdown",
   "id": "1463e99e",
   "metadata": {},
   "source": [
    "#### Mean Average Error (Train, Test)"
   ]
  },
  {
   "cell_type": "code",
   "execution_count": 73,
   "id": "374c2844",
   "metadata": {},
   "outputs": [
    {
     "data": {
      "text/plain": [
       "(0.6194189582010761, 0.6203731517691593)"
      ]
     },
     "execution_count": 73,
     "metadata": {},
     "output_type": "execute_result"
    }
   ],
   "source": [
    "data[0]"
   ]
  },
  {
   "cell_type": "markdown",
   "id": "de69959f",
   "metadata": {},
   "source": [
    "#### Mean Squared Error (Train, Test)"
   ]
  },
  {
   "cell_type": "code",
   "execution_count": 74,
   "id": "09c7374d",
   "metadata": {},
   "outputs": [
    {
     "data": {
      "text/plain": [
       "(0.6810572387984898, 0.6999979159932779)"
      ]
     },
     "execution_count": 74,
     "metadata": {},
     "output_type": "execute_result"
    }
   ],
   "source": [
    "data[1]"
   ]
  },
  {
   "cell_type": "markdown",
   "id": "870df0a0",
   "metadata": {},
   "source": [
    "#### Root Mean Squared Error (Train, Test)"
   ]
  },
  {
   "cell_type": "code",
   "execution_count": 75,
   "id": "e72106ca",
   "metadata": {},
   "outputs": [
    {
     "data": {
      "text/plain": [
       "(0.8252619213307311, 0.8366587811009204)"
      ]
     },
     "execution_count": 75,
     "metadata": {},
     "output_type": "execute_result"
    }
   ],
   "source": [
    "data[2]"
   ]
  },
  {
   "cell_type": "markdown",
   "id": "cdb7a477",
   "metadata": {},
   "source": [
    "### Review of Best Linear Regression Model Performance"
   ]
  },
  {
   "cell_type": "markdown",
   "id": "7f441ad0",
   "metadata": {},
   "source": [
    "#### Mean Average Error (Train, Test)"
   ]
  },
  {
   "cell_type": "code",
   "execution_count": 76,
   "id": "26d28147",
   "metadata": {},
   "outputs": [
    {
     "data": {
      "text/plain": [
       "((0.5835192806911846, 0.010207146059067492), 0.5758957400019595)"
      ]
     },
     "execution_count": 76,
     "metadata": {},
     "output_type": "execute_result"
    }
   ],
   "source": [
    "data[3], data[4]"
   ]
  },
  {
   "cell_type": "markdown",
   "id": "2fe3a11a",
   "metadata": {},
   "source": [
    "#### Mean Squared Error (Train, Test)"
   ]
  },
  {
   "cell_type": "code",
   "execution_count": 77,
   "id": "af4b4ba7",
   "metadata": {},
   "outputs": [
    {
     "data": {
      "text/plain": [
       "((0.6075777505832027, 0.03662925572612298), 0.6154366980872195)"
      ]
     },
     "execution_count": 77,
     "metadata": {},
     "output_type": "execute_result"
    }
   ],
   "source": [
    "data[5], data[6]"
   ]
  },
  {
   "cell_type": "markdown",
   "id": "676455fa",
   "metadata": {},
   "source": [
    "#### Root Mean Squared Error (Train, Test)"
   ]
  },
  {
   "cell_type": "code",
   "execution_count": 78,
   "id": "b7ce8ada",
   "metadata": {},
   "outputs": [
    {
     "data": {
      "text/plain": [
       "((0.7791187104021542, 0.023490118869150225), 0.7844977361899902)"
      ]
     },
     "execution_count": 78,
     "metadata": {},
     "output_type": "execute_result"
    }
   ],
   "source": [
    "data[7], data[8]"
   ]
  },
  {
   "cell_type": "markdown",
   "id": "1d44277e",
   "metadata": {},
   "source": [
    "## Train and Test Splits for Modeling"
   ]
  },
  {
   "cell_type": "markdown",
   "id": "c779a55c",
   "metadata": {},
   "source": [
    "\n"
   ]
  },
  {
   "cell_type": "code",
   "execution_count": 79,
   "id": "0bdf7839",
   "metadata": {},
   "outputs": [],
   "source": [
    "#Load data and separate out client hospital\n",
    "hosp_data = pd.read_csv('../data/main_df_post2_200.csv')\n",
    "targ_hosp = hosp_data[hosp_data.Facility_ID == '310041']\n",
    "hosp_data = hosp_data[hosp_data.Facility_ID !='310041']"
   ]
  },
  {
   "cell_type": "code",
   "execution_count": 80,
   "id": "0b4a7f37",
   "metadata": {},
   "outputs": [
    {
     "data": {
      "text/plain": [
       "((1730, 32), (742, 32))"
      ]
     },
     "execution_count": 80,
     "metadata": {},
     "output_type": "execute_result"
    }
   ],
   "source": [
    "#Make split\n",
    "X_train, X_test, y_train, y_test = train_test_split(hosp_data.drop(columns='ReadmissionRate'), \n",
    "                                                    hosp_data.ReadmissionRate, test_size=0.3, \n",
    "                                                    random_state=47)\n",
    "\n",
    "#Save non-numeric columns separately and drop from X_train and X_test\n",
    "names_list = ['Facility_ID','City','State','County']\n",
    "names_train = X_train[names_list]\n",
    "names_test = X_test[names_list]\n",
    "X_train.drop(columns=names_list, inplace=True)\n",
    "X_test.drop(columns=names_list, inplace=True)\n",
    "X_train.shape, X_test.shape"
   ]
  },
  {
   "cell_type": "markdown",
   "id": "76a62c0a",
   "metadata": {},
   "source": [
    "## Random Forest Regression Model"
   ]
  },
  {
   "cell_type": "markdown",
   "id": "e7203ca6",
   "metadata": {},
   "source": [
    "### Random Forest Model: Hyperparameter Grid Search"
   ]
  },
  {
   "cell_type": "code",
   "execution_count": 81,
   "id": "4657c2ac",
   "metadata": {},
   "outputs": [],
   "source": [
    "#Define pipeline\n",
    "RF_pipe = make_pipeline(\n",
    "    SimpleImputer(strategy='median'),\n",
    "    StandardScaler(),\n",
    "    RandomForestRegressor(random_state=47)\n",
    ")"
   ]
  },
  {
   "cell_type": "code",
   "execution_count": 82,
   "id": "fa3312d2",
   "metadata": {},
   "outputs": [
    {
     "data": {
      "text/plain": [
       "dict_keys(['memory', 'steps', 'verbose', 'simpleimputer', 'standardscaler', 'randomforestregressor', 'simpleimputer__add_indicator', 'simpleimputer__copy', 'simpleimputer__fill_value', 'simpleimputer__missing_values', 'simpleimputer__strategy', 'simpleimputer__verbose', 'standardscaler__copy', 'standardscaler__with_mean', 'standardscaler__with_std', 'randomforestregressor__bootstrap', 'randomforestregressor__ccp_alpha', 'randomforestregressor__criterion', 'randomforestregressor__max_depth', 'randomforestregressor__max_features', 'randomforestregressor__max_leaf_nodes', 'randomforestregressor__max_samples', 'randomforestregressor__min_impurity_decrease', 'randomforestregressor__min_impurity_split', 'randomforestregressor__min_samples_leaf', 'randomforestregressor__min_samples_split', 'randomforestregressor__min_weight_fraction_leaf', 'randomforestregressor__n_estimators', 'randomforestregressor__n_jobs', 'randomforestregressor__oob_score', 'randomforestregressor__random_state', 'randomforestregressor__verbose', 'randomforestregressor__warm_start'])"
      ]
     },
     "execution_count": 82,
     "metadata": {},
     "output_type": "execute_result"
    }
   ],
   "source": [
    "#Dict of available parameters for RF pipe\n",
    "RF_pipe.get_params().keys()"
   ]
  },
  {
   "cell_type": "code",
   "execution_count": 83,
   "id": "28438fd8",
   "metadata": {},
   "outputs": [
    {
     "data": {
      "text/plain": [
       "{'randomforestregressor__n_estimators': [1000],\n",
       " 'standardscaler': [None],\n",
       " 'simpleimputer__strategy': ['mean']}"
      ]
     },
     "execution_count": 83,
     "metadata": {},
     "output_type": "execute_result"
    }
   ],
   "source": [
    "#Define search grid parameters\n",
    "\n",
    "#n_est = [int(n) for n in np.logspace(start=1, stop=3, num=20)]\n",
    "n_est = [1000]\n",
    "\n",
    "grid_params = {\n",
    "        'randomforestregressor__n_estimators': n_est,\n",
    "        'standardscaler': [None],\n",
    "        'simpleimputer__strategy': ['mean']\n",
    "}\n",
    "grid_params\n",
    "\n",
    "#1000 is best estimators in this range with 200 inpatient cases as the hipass. Also mean imputation and no scaling were best."
   ]
  },
  {
   "cell_type": "code",
   "execution_count": 84,
   "id": "854bb69b",
   "metadata": {},
   "outputs": [],
   "source": [
    "#Call `GridSearchCV` with random forest pipeline, passing in the above `grid_params`\n",
    "#dict for parameters to evaluate with 5-fold cross-validation\n",
    "rf_grid_cv = GridSearchCV(RF_pipe, param_grid=grid_params, cv=5)"
   ]
  },
  {
   "cell_type": "code",
   "execution_count": 85,
   "id": "6cb70324",
   "metadata": {},
   "outputs": [
    {
     "data": {
      "text/plain": [
       "GridSearchCV(cv=5,\n",
       "             estimator=Pipeline(steps=[('simpleimputer',\n",
       "                                        SimpleImputer(strategy='median')),\n",
       "                                       ('standardscaler', StandardScaler()),\n",
       "                                       ('randomforestregressor',\n",
       "                                        RandomForestRegressor(random_state=47))]),\n",
       "             param_grid={'randomforestregressor__n_estimators': [1000],\n",
       "                         'simpleimputer__strategy': ['mean'],\n",
       "                         'standardscaler': [None]})"
      ]
     },
     "execution_count": 85,
     "metadata": {},
     "output_type": "execute_result"
    }
   ],
   "source": [
    "#Conduct grid search.  \n",
    "rf_grid_cv.fit(X_train, y_train)"
   ]
  },
  {
   "cell_type": "code",
   "execution_count": 86,
   "id": "3247bb8c",
   "metadata": {},
   "outputs": [
    {
     "data": {
      "text/plain": [
       "{'randomforestregressor__n_estimators': 1000,\n",
       " 'simpleimputer__strategy': 'mean',\n",
       " 'standardscaler': None}"
      ]
     },
     "execution_count": 86,
     "metadata": {},
     "output_type": "execute_result"
    }
   ],
   "source": [
    "#Print the best params (`best_params_` attribute) from the grid search\n",
    "rf_grid_cv.best_params_"
   ]
  },
  {
   "cell_type": "markdown",
   "id": "cc3bca01",
   "metadata": {},
   "source": [
    "### Best Random Forest Model Performance Metrics"
   ]
  },
  {
   "cell_type": "markdown",
   "id": "25057669",
   "metadata": {},
   "source": [
    "#### R-squared (COD)"
   ]
  },
  {
   "cell_type": "code",
   "execution_count": 87,
   "id": "1ded4200",
   "metadata": {},
   "outputs": [
    {
     "data": {
      "text/plain": [
       "array([0.23572567, 0.19822672, 0.14142771, 0.15656932, 0.15334056])"
      ]
     },
     "execution_count": 87,
     "metadata": {},
     "output_type": "execute_result"
    }
   ],
   "source": [
    "#Cross-validation defaults to R^2 metric for scoring regression\n",
    "rf_best_cv_results = cross_validate(rf_grid_cv.best_estimator_, X_train, y_train, cv=5)\n",
    "rf_best_scores = rf_best_cv_results['test_score']\n",
    "rf_best_scores"
   ]
  },
  {
   "cell_type": "code",
   "execution_count": 88,
   "id": "99ddfd4b",
   "metadata": {},
   "outputs": [
    {
     "data": {
      "text/plain": [
       "(0.17705799374907308, 0.03504805458830384)"
      ]
     },
     "execution_count": 88,
     "metadata": {},
     "output_type": "execute_result"
    }
   ],
   "source": [
    "#Training set CV mean and std\n",
    "np.mean(rf_best_scores), np.std(rf_best_scores)"
   ]
  },
  {
   "cell_type": "markdown",
   "id": "01152a1c",
   "metadata": {},
   "source": [
    "#### Mean Absolute Error (MAE)"
   ]
  },
  {
   "cell_type": "code",
   "execution_count": 89,
   "id": "62aff659",
   "metadata": {},
   "outputs": [],
   "source": [
    "rf_neg_mae = cross_validate(rf_grid_cv.best_estimator_, X_train, y_train, \n",
    "                            scoring='neg_mean_absolute_error', cv=5)"
   ]
  },
  {
   "cell_type": "code",
   "execution_count": 90,
   "id": "fe4c2bab",
   "metadata": {},
   "outputs": [
    {
     "data": {
      "text/plain": [
       "(0.5710821387283243, 0.015875104386101516)"
      ]
     },
     "execution_count": 90,
     "metadata": {},
     "output_type": "execute_result"
    }
   ],
   "source": [
    "#Training set CV mean and std\n",
    "rf_mae_mean = np.mean(-1 * rf_neg_mae['test_score'])\n",
    "rf_mae_std = np.std(-1 * rf_neg_mae['test_score'])\n",
    "rf_mae_mean, rf_mae_std"
   ]
  },
  {
   "cell_type": "code",
   "execution_count": 91,
   "id": "070033cd",
   "metadata": {},
   "outputs": [
    {
     "data": {
      "text/plain": [
       "0.5434397574123996"
      ]
     },
     "execution_count": 91,
     "metadata": {},
     "output_type": "execute_result"
    }
   ],
   "source": [
    "# Test set mean\n",
    "mean_absolute_error(y_test, rf_grid_cv.best_estimator_.predict(X_test))"
   ]
  },
  {
   "cell_type": "markdown",
   "id": "dd5f2de5",
   "metadata": {},
   "source": [
    "#### Mean Squared Error (MSE)"
   ]
  },
  {
   "cell_type": "code",
   "execution_count": 92,
   "id": "f610bf8e",
   "metadata": {},
   "outputs": [],
   "source": [
    "rf_neg_mse = cross_validate(rf_grid_cv.best_estimator_, X_train, y_train, \n",
    "                            scoring='neg_mean_squared_error', cv=5)"
   ]
  },
  {
   "cell_type": "code",
   "execution_count": 93,
   "id": "7d03075d",
   "metadata": {},
   "outputs": [
    {
     "data": {
      "text/plain": [
       "(0.5606843771387279, 0.0441549595965477)"
      ]
     },
     "execution_count": 93,
     "metadata": {},
     "output_type": "execute_result"
    }
   ],
   "source": [
    "#Training set CV mean and std\n",
    "rf_mse_mean = np.mean(-1 * rf_neg_mse['test_score'])\n",
    "rf_mse_std = np.std(-1 * rf_neg_mse['test_score'])\n",
    "rf_mse_mean, rf_mse_std"
   ]
  },
  {
   "cell_type": "code",
   "execution_count": 94,
   "id": "945d3893",
   "metadata": {},
   "outputs": [
    {
     "data": {
      "text/plain": [
       "0.5121367799595666"
      ]
     },
     "execution_count": 94,
     "metadata": {},
     "output_type": "execute_result"
    }
   ],
   "source": [
    "# Test set mean\n",
    "mean_squared_error(y_test, rf_grid_cv.best_estimator_.predict(X_test))"
   ]
  },
  {
   "cell_type": "markdown",
   "id": "6f53ad9c",
   "metadata": {},
   "source": [
    "#### Root Mean Square Error (RMSE)"
   ]
  },
  {
   "cell_type": "code",
   "execution_count": 95,
   "id": "5238c547",
   "metadata": {},
   "outputs": [],
   "source": [
    "rf_neg_rmse = cross_validate(rf_grid_cv.best_estimator_, X_train, y_train, \n",
    "                            scoring='neg_root_mean_squared_error', cv=5)"
   ]
  },
  {
   "cell_type": "code",
   "execution_count": 96,
   "id": "b7a78e33",
   "metadata": {},
   "outputs": [
    {
     "data": {
      "text/plain": [
       "(0.7482005473220594, 0.029670155471425194)"
      ]
     },
     "execution_count": 96,
     "metadata": {},
     "output_type": "execute_result"
    }
   ],
   "source": [
    "#Training set CV mean and std\n",
    "rf_rmse_mean = np.mean(-1 * rf_neg_rmse['test_score'])\n",
    "rf_rmse_std = np.std(-1 * rf_neg_rmse['test_score'])\n",
    "rf_rmse_mean, rf_rmse_std"
   ]
  },
  {
   "cell_type": "code",
   "execution_count": 97,
   "id": "c32cd5d3",
   "metadata": {},
   "outputs": [
    {
     "data": {
      "text/plain": [
       "0.7156373243197749"
      ]
     },
     "execution_count": 97,
     "metadata": {},
     "output_type": "execute_result"
    }
   ],
   "source": [
    "# Test set mean\n",
    "np.sqrt(mean_squared_error(y_test, rf_grid_cv.best_estimator_.predict(X_test)))"
   ]
  },
  {
   "cell_type": "markdown",
   "id": "92bf5632",
   "metadata": {},
   "source": [
    "### Best Random Forest Model Feature Importance"
   ]
  },
  {
   "cell_type": "code",
   "execution_count": 98,
   "id": "b988b9d5",
   "metadata": {},
   "outputs": [
    {
     "data": {
      "image/png": "[encoded data removed]",
      "text/plain": [
       "<Figure size 720x360 with 1 Axes>"
      ]
     },
     "metadata": {
      "needs_background": "light"
     },
     "output_type": "display_data"
    }
   ],
   "source": [
    "#Plot a barplot of the random forest's feature importances,\n",
    "#assigning the `feature_importances_` attribute of \n",
    "#`rf_grid_cv.best_estimator_.named_steps.randomforestregressor` to the name `imps` to then\n",
    "#create a pandas Series object of the feature importances, with the index given by the\n",
    "#training data column names, sorting the values in descending order\n",
    "plt.subplots(figsize=(10, 5))\n",
    "imps = rf_grid_cv.best_estimator_.named_steps.randomforestregressor.feature_importances_\n",
    "rf_feat_imps = pd.Series(imps, index=X_train.columns).sort_values(ascending=False)\n",
    "rf_feat_imps.plot(kind='bar')\n",
    "plt.xlabel('features')\n",
    "plt.ylabel('importance')\n",
    "plt.title('Best random forest regressor feature importances');"
   ]
  },
  {
   "cell_type": "markdown",
   "id": "d2555930",
   "metadata": {},
   "source": [
    "## Gradient Boosting Regression Model"
   ]
  },
  {
   "cell_type": "markdown",
   "id": "ecad055d",
   "metadata": {},
   "source": [
    "### Gradient Boosting Model: Hyperparameter Grid Search"
   ]
  },
  {
   "cell_type": "code",
   "execution_count": 99,
   "id": "1dca95f5",
   "metadata": {},
   "outputs": [],
   "source": [
    "#Define pipeline \n",
    "GB_pipe = make_pipeline(\n",
    "    SimpleImputer(strategy='mean'),\n",
    "    StandardScaler(),\n",
    "    GradientBoostingRegressor(random_state= 47)\n",
    ")"
   ]
  },
  {
   "cell_type": "code",
   "execution_count": 100,
   "id": "73b8beb3",
   "metadata": {},
   "outputs": [
    {
     "data": {
      "text/plain": [
       "dict_keys(['memory', 'steps', 'verbose', 'simpleimputer', 'standardscaler', 'gradientboostingregressor', 'simpleimputer__add_indicator', 'simpleimputer__copy', 'simpleimputer__fill_value', 'simpleimputer__missing_values', 'simpleimputer__strategy', 'simpleimputer__verbose', 'standardscaler__copy', 'standardscaler__with_mean', 'standardscaler__with_std', 'gradientboostingregressor__alpha', 'gradientboostingregressor__ccp_alpha', 'gradientboostingregressor__criterion', 'gradientboostingregressor__init', 'gradientboostingregressor__learning_rate', 'gradientboostingregressor__loss', 'gradientboostingregressor__max_depth', 'gradientboostingregressor__max_features', 'gradientboostingregressor__max_leaf_nodes', 'gradientboostingregressor__min_impurity_decrease', 'gradientboostingregressor__min_impurity_split', 'gradientboostingregressor__min_samples_leaf', 'gradientboostingregressor__min_samples_split', 'gradientboostingregressor__min_weight_fraction_leaf', 'gradientboostingregressor__n_estimators', 'gradientboostingregressor__n_iter_no_change', 'gradientboostingregressor__random_state', 'gradientboostingregressor__subsample', 'gradientboostingregressor__tol', 'gradientboostingregressor__validation_fraction', 'gradientboostingregressor__verbose', 'gradientboostingregressor__warm_start'])"
      ]
     },
     "execution_count": 100,
     "metadata": {},
     "output_type": "execute_result"
    }
   ],
   "source": [
    "GB_pipe.get_params().keys()"
   ]
  },
  {
   "cell_type": "code",
   "execution_count": 101,
   "id": "e0ce1259",
   "metadata": {},
   "outputs": [
    {
     "data": {
      "text/plain": [
       "{'gradientboostingregressor__n_estimators': [50],\n",
       " 'standardscaler': [None],\n",
       " 'simpleimputer__strategy': ['mean'],\n",
       " 'gradientboostingregressor__learning_rate': [0.05],\n",
       " 'gradientboostingregressor__max_depth': [6],\n",
       " 'gradientboostingregressor__max_features': [6]}"
      ]
     },
     "execution_count": 101,
     "metadata": {},
     "output_type": "execute_result"
    }
   ],
   "source": [
    "#Define Grid Parameters\n",
    "\n",
    "n_est = [50]\n",
    "learning_rate = [.05]\n",
    "max_depth = [6]\n",
    "max_features = [6]\n",
    "\n",
    "\n",
    "grid_params = {\n",
    "        'gradientboostingregressor__n_estimators': n_est,\n",
    "        'standardscaler': [None],\n",
    "        'simpleimputer__strategy': ['mean'],\n",
    "        'gradientboostingregressor__learning_rate': learning_rate,\n",
    "        'gradientboostingregressor__max_depth': max_depth,\n",
    "        'gradientboostingregressor__max_features': max_features\n",
    "}\n",
    "grid_params\n",
    "\n",
    "#best params from a broad grid search (hipass of 200 inpatient cases) were 50, .05, 6, 6; Imputer: Mean, Scaler: None\n",
    "#MAE/SD training was: (0.5702951436959963, 0.013731865097665486)  MAE test was: 0.5543158577555028"
   ]
  },
  {
   "cell_type": "code",
   "execution_count": 102,
   "id": "611de3b2",
   "metadata": {},
   "outputs": [],
   "source": [
    "#Call `GridSearchCV` with the gradient boosting pipeline, passing in the above `grid_params`\n",
    "#dict for parameters to evaluate, 5-fold cross-validation\n",
    "gb_grid_cv = GridSearchCV(GB_pipe, param_grid=grid_params, cv=5)"
   ]
  },
  {
   "cell_type": "code",
   "execution_count": 103,
   "id": "f9af9f63",
   "metadata": {},
   "outputs": [
    {
     "data": {
      "text/plain": [
       "GridSearchCV(cv=5,\n",
       "             estimator=Pipeline(steps=[('simpleimputer', SimpleImputer()),\n",
       "                                       ('standardscaler', StandardScaler()),\n",
       "                                       ('gradientboostingregressor',\n",
       "                                        GradientBoostingRegressor(random_state=47))]),\n",
       "             param_grid={'gradientboostingregressor__learning_rate': [0.05],\n",
       "                         'gradientboostingregressor__max_depth': [6],\n",
       "                         'gradientboostingregressor__max_features': [6],\n",
       "                         'gradientboostingregressor__n_estimators': [50],\n",
       "                         'simpleimputer__strategy': ['mean'],\n",
       "                         'standardscaler': [None]})"
      ]
     },
     "execution_count": 103,
     "metadata": {},
     "output_type": "execute_result"
    }
   ],
   "source": [
    "#conduct the grid search. \n",
    "gb_grid_cv.fit(X_train, y_train)"
   ]
  },
  {
   "cell_type": "code",
   "execution_count": 104,
   "id": "51fba0cc",
   "metadata": {},
   "outputs": [
    {
     "data": {
      "text/plain": [
       "{'gradientboostingregressor__learning_rate': 0.05,\n",
       " 'gradientboostingregressor__max_depth': 6,\n",
       " 'gradientboostingregressor__max_features': 6,\n",
       " 'gradientboostingregressor__n_estimators': 50,\n",
       " 'simpleimputer__strategy': 'mean',\n",
       " 'standardscaler': None}"
      ]
     },
     "execution_count": 104,
     "metadata": {},
     "output_type": "execute_result"
    }
   ],
   "source": [
    "#Best params (`best_params_` attribute) from the grid search\n",
    "gb_grid_cv.best_params_"
   ]
  },
  {
   "cell_type": "markdown",
   "id": "860181a4",
   "metadata": {},
   "source": [
    "### Best Gradient Boosting Model Performance Metrics"
   ]
  },
  {
   "cell_type": "markdown",
   "id": "44a02a6f",
   "metadata": {},
   "source": [
    "#### R-squared (COD)"
   ]
  },
  {
   "cell_type": "code",
   "execution_count": 105,
   "id": "e49eb2e0",
   "metadata": {},
   "outputs": [
    {
     "data": {
      "text/plain": [
       "array([0.19208072, 0.19474934, 0.14732388, 0.14472605, 0.16657051])"
      ]
     },
     "execution_count": 105,
     "metadata": {},
     "output_type": "execute_result"
    }
   ],
   "source": [
    "#Cross-validation defaults to R^2 metric for scoring regression\n",
    "gb_best_cv_results = cross_validate(gb_grid_cv.best_estimator_, X_train, y_train, cv=5)\n",
    "gb_best_scores = gb_best_cv_results['test_score']\n",
    "gb_best_scores"
   ]
  },
  {
   "cell_type": "code",
   "execution_count": 106,
   "id": "3ad774e2",
   "metadata": {},
   "outputs": [
    {
     "data": {
      "text/plain": [
       "(0.16909010148413295, 0.021263532384822065)"
      ]
     },
     "execution_count": 106,
     "metadata": {},
     "output_type": "execute_result"
    }
   ],
   "source": [
    "#Training set CV mean and std\n",
    "np.mean(gb_best_scores), np.std(gb_best_scores)"
   ]
  },
  {
   "cell_type": "markdown",
   "id": "5498a846",
   "metadata": {},
   "source": [
    "#### Mean Absolute Error (MAE)"
   ]
  },
  {
   "cell_type": "code",
   "execution_count": 107,
   "id": "961a3437",
   "metadata": {},
   "outputs": [],
   "source": [
    "gb_neg_mae = cross_validate(gb_grid_cv.best_estimator_, X_train, y_train, \n",
    "                            scoring='neg_mean_absolute_error', cv=5, n_jobs=-1)"
   ]
  },
  {
   "cell_type": "code",
   "execution_count": 108,
   "id": "bc1c864a",
   "metadata": {},
   "outputs": [
    {
     "data": {
      "text/plain": [
       "(0.5722341857139136, 0.013257783747231534)"
      ]
     },
     "execution_count": 108,
     "metadata": {},
     "output_type": "execute_result"
    }
   ],
   "source": [
    "#Training set CV mean and std\n",
    "gb_mae_mean = np.mean(-1 * gb_neg_mae['test_score'])\n",
    "gb_mae_std = np.std(-1 * gb_neg_mae['test_score'])\n",
    "gb_mae_mean, gb_mae_std"
   ]
  },
  {
   "cell_type": "code",
   "execution_count": 109,
   "id": "6038e485",
   "metadata": {},
   "outputs": [
    {
     "data": {
      "text/plain": [
       "0.5441170432310273"
      ]
     },
     "execution_count": 109,
     "metadata": {},
     "output_type": "execute_result"
    }
   ],
   "source": [
    "# Test set mean\n",
    "mean_absolute_error(y_test, gb_grid_cv.best_estimator_.predict(X_test))"
   ]
  },
  {
   "cell_type": "markdown",
   "id": "6af82a75",
   "metadata": {},
   "source": [
    "#### Mean Squared Error (MSE)"
   ]
  },
  {
   "cell_type": "code",
   "execution_count": 110,
   "id": "93efcd35",
   "metadata": {},
   "outputs": [],
   "source": [
    "gb_neg_mse = cross_validate(gb_grid_cv.best_estimator_, X_train, y_train, \n",
    "                            scoring='neg_mean_squared_error', cv=5)"
   ]
  },
  {
   "cell_type": "code",
   "execution_count": 111,
   "id": "4fe2ecb8",
   "metadata": {},
   "outputs": [
    {
     "data": {
      "text/plain": [
       "(0.5659162363262712, 0.038104227028007705)"
      ]
     },
     "execution_count": 111,
     "metadata": {},
     "output_type": "execute_result"
    }
   ],
   "source": [
    "#Training set CV mean and std\n",
    "gb_mse_mean = np.mean(-1 * gb_neg_mse['test_score'])\n",
    "gb_mse_std = np.std(-1 * gb_neg_mse['test_score'])\n",
    "gb_mse_mean, gb_mse_std"
   ]
  },
  {
   "cell_type": "code",
   "execution_count": 112,
   "id": "78319df4",
   "metadata": {},
   "outputs": [
    {
     "data": {
      "text/plain": [
       "0.5164120168200286"
      ]
     },
     "execution_count": 112,
     "metadata": {},
     "output_type": "execute_result"
    }
   ],
   "source": [
    "# Test set mean\n",
    "mean_squared_error(y_test, gb_grid_cv.best_estimator_.predict(X_test))"
   ]
  },
  {
   "cell_type": "markdown",
   "id": "72245290",
   "metadata": {},
   "source": [
    "#### Root Mean Square Error (RMSE)"
   ]
  },
  {
   "cell_type": "code",
   "execution_count": 113,
   "id": "0d6d383e",
   "metadata": {},
   "outputs": [],
   "source": [
    "gb_neg_rmse = cross_validate(gb_grid_cv.best_estimator_, X_train, y_train, \n",
    "                            scoring='neg_root_mean_squared_error', cv=5)"
   ]
  },
  {
   "cell_type": "code",
   "execution_count": 114,
   "id": "de81a1d6",
   "metadata": {},
   "outputs": [
    {
     "data": {
      "text/plain": [
       "(0.7518555680067098, 0.025088666436838658)"
      ]
     },
     "execution_count": 114,
     "metadata": {},
     "output_type": "execute_result"
    }
   ],
   "source": [
    "#Training set CV mean and std\n",
    "gb_rmse_mean = np.mean(-1 * gb_neg_rmse['test_score'])\n",
    "gb_rmse_std = np.std(-1 * gb_neg_rmse['test_score'])\n",
    "gb_rmse_mean, gb_rmse_std"
   ]
  },
  {
   "cell_type": "code",
   "execution_count": 115,
   "id": "2bf66642",
   "metadata": {},
   "outputs": [
    {
     "data": {
      "text/plain": [
       "0.7186181300384986"
      ]
     },
     "execution_count": 115,
     "metadata": {},
     "output_type": "execute_result"
    }
   ],
   "source": [
    "# Test set mean\n",
    "np.sqrt(mean_squared_error(y_test, gb_grid_cv.best_estimator_.predict(X_test)))"
   ]
  },
  {
   "cell_type": "markdown",
   "id": "51045cc8",
   "metadata": {},
   "source": [
    "## HistGradient Boosting Regression Model"
   ]
  },
  {
   "cell_type": "markdown",
   "id": "5d996230",
   "metadata": {},
   "source": [
    "### HistGradient Boosting Model: Hyperparameter Grid Search"
   ]
  },
  {
   "cell_type": "code",
   "execution_count": 116,
   "id": "657e74f4",
   "metadata": {},
   "outputs": [],
   "source": [
    "#Define pipeline\n",
    "HGB_pipe = make_pipeline(\n",
    "    SimpleImputer(strategy='mean'),\n",
    "    StandardScaler(),\n",
    "    HistGradientBoostingRegressor(random_state= 47)\n",
    ")"
   ]
  },
  {
   "cell_type": "code",
   "execution_count": 117,
   "id": "871ac915",
   "metadata": {},
   "outputs": [
    {
     "data": {
      "text/plain": [
       "dict_keys(['memory', 'steps', 'verbose', 'simpleimputer', 'standardscaler', 'histgradientboostingregressor', 'simpleimputer__add_indicator', 'simpleimputer__copy', 'simpleimputer__fill_value', 'simpleimputer__missing_values', 'simpleimputer__strategy', 'simpleimputer__verbose', 'standardscaler__copy', 'standardscaler__with_mean', 'standardscaler__with_std', 'histgradientboostingregressor__categorical_features', 'histgradientboostingregressor__early_stopping', 'histgradientboostingregressor__l2_regularization', 'histgradientboostingregressor__learning_rate', 'histgradientboostingregressor__loss', 'histgradientboostingregressor__max_bins', 'histgradientboostingregressor__max_depth', 'histgradientboostingregressor__max_iter', 'histgradientboostingregressor__max_leaf_nodes', 'histgradientboostingregressor__min_samples_leaf', 'histgradientboostingregressor__monotonic_cst', 'histgradientboostingregressor__n_iter_no_change', 'histgradientboostingregressor__random_state', 'histgradientboostingregressor__scoring', 'histgradientboostingregressor__tol', 'histgradientboostingregressor__validation_fraction', 'histgradientboostingregressor__verbose', 'histgradientboostingregressor__warm_start'])"
      ]
     },
     "execution_count": 117,
     "metadata": {},
     "output_type": "execute_result"
    }
   ],
   "source": [
    "HGB_pipe.get_params().keys()"
   ]
  },
  {
   "cell_type": "code",
   "execution_count": 118,
   "id": "b46864ef",
   "metadata": {},
   "outputs": [
    {
     "data": {
      "text/plain": [
       "{'standardscaler': [None],\n",
       " 'simpleimputer__strategy': ['mean'],\n",
       " 'histgradientboostingregressor__learning_rate': [0.06],\n",
       " 'histgradientboostingregressor__max_iter': [40],\n",
       " 'histgradientboostingregressor__max_depth': [5]}"
      ]
     },
     "execution_count": 118,
     "metadata": {},
     "output_type": "execute_result"
    }
   ],
   "source": [
    "#Define grid search parameters\n",
    "\n",
    "learning_rate = [.06]\n",
    "max_iterations = [40]\n",
    "max_depth = [5]\n",
    "\n",
    "grid_params = {\n",
    "        'standardscaler': [None],\n",
    "        'simpleimputer__strategy': ['mean'],\n",
    "        'histgradientboostingregressor__learning_rate': learning_rate,\n",
    "        'histgradientboostingregressor__max_iter': max_iterations,\n",
    "        'histgradientboostingregressor__max_depth': max_depth\n",
    "}\n",
    "grid_params\n",
    "\n",
    "#best params from a broad grid search (hipass of 200 inpatient cases) were .06, 40, 5, Mean, None"
   ]
  },
  {
   "cell_type": "code",
   "execution_count": 119,
   "id": "2cb3948f",
   "metadata": {},
   "outputs": [],
   "source": [
    "#Call `GridSearchCV` with the hist gradient boosting pipeline, passing in the above `grid_params`\n",
    "#dict for parameters to evaluate, 5-fold cross-validation.\n",
    "hgb_grid_cv = GridSearchCV(HGB_pipe, param_grid=grid_params, cv=5)"
   ]
  },
  {
   "cell_type": "code",
   "execution_count": 120,
   "id": "56e5e38d",
   "metadata": {},
   "outputs": [
    {
     "data": {
      "text/plain": [
       "GridSearchCV(cv=5,\n",
       "             estimator=Pipeline(steps=[('simpleimputer', SimpleImputer()),\n",
       "                                       ('standardscaler', StandardScaler()),\n",
       "                                       ('histgradientboostingregressor',\n",
       "                                        HistGradientBoostingRegressor(random_state=47))]),\n",
       "             param_grid={'histgradientboostingregressor__learning_rate': [0.06],\n",
       "                         'histgradientboostingregressor__max_depth': [5],\n",
       "                         'histgradientboostingregressor__max_iter': [40],\n",
       "                         'simpleimputer__strategy': ['mean'],\n",
       "                         'standardscaler': [None]})"
      ]
     },
     "execution_count": 120,
     "metadata": {},
     "output_type": "execute_result"
    }
   ],
   "source": [
    "#`GridSearchCV`'s `fit()` method with `X_train` and `y_train` as arguments\n",
    "#to actually start the grid search. \n",
    "hgb_grid_cv.fit(X_train, y_train)"
   ]
  },
  {
   "cell_type": "code",
   "execution_count": 121,
   "id": "7d88b785",
   "metadata": {},
   "outputs": [
    {
     "data": {
      "text/plain": [
       "{'histgradientboostingregressor__learning_rate': 0.06,\n",
       " 'histgradientboostingregressor__max_depth': 5,\n",
       " 'histgradientboostingregressor__max_iter': 40,\n",
       " 'simpleimputer__strategy': 'mean',\n",
       " 'standardscaler': None}"
      ]
     },
     "execution_count": 121,
     "metadata": {},
     "output_type": "execute_result"
    }
   ],
   "source": [
    "#Best params (`best_params_` attribute) from the grid search\n",
    "hgb_grid_cv.best_params_"
   ]
  },
  {
   "cell_type": "markdown",
   "id": "08016cba",
   "metadata": {},
   "source": [
    "### Best HistGradient Boosting Model Performance Metrics"
   ]
  },
  {
   "cell_type": "markdown",
   "id": "3fe0938d",
   "metadata": {},
   "source": [
    "#### R-squared (COD)"
   ]
  },
  {
   "cell_type": "code",
   "execution_count": 122,
   "id": "8a101a62",
   "metadata": {},
   "outputs": [
    {
     "data": {
      "text/plain": [
       "array([0.20215646, 0.2096519 , 0.13597544, 0.12638729, 0.12641374])"
      ]
     },
     "execution_count": 122,
     "metadata": {},
     "output_type": "execute_result"
    }
   ],
   "source": [
    "#Cross-validation defaults to R^2 metric for scoring regression\n",
    "hgb_best_cv_results = cross_validate(hgb_grid_cv.best_estimator_, X_train, y_train, cv=5)\n",
    "hgb_best_scores = hgb_best_cv_results['test_score']\n",
    "hgb_best_scores"
   ]
  },
  {
   "cell_type": "code",
   "execution_count": 123,
   "id": "90439aa1",
   "metadata": {},
   "outputs": [
    {
     "data": {
      "text/plain": [
       "(0.16011696730921135, 0.037622974731104215)"
      ]
     },
     "execution_count": 123,
     "metadata": {},
     "output_type": "execute_result"
    }
   ],
   "source": [
    "#Training set CV mean and std\n",
    "np.mean(hgb_best_scores), np.std(hgb_best_scores)"
   ]
  },
  {
   "cell_type": "markdown",
   "id": "5f93156c",
   "metadata": {},
   "source": [
    "#### Mean Absolute Error (MAE)"
   ]
  },
  {
   "cell_type": "code",
   "execution_count": 124,
   "id": "75eddcf3",
   "metadata": {},
   "outputs": [],
   "source": [
    "hgb_neg_mae = cross_validate(hgb_grid_cv.best_estimator_, X_train, y_train, \n",
    "                            scoring='neg_mean_absolute_error', cv=5, n_jobs=-1)"
   ]
  },
  {
   "cell_type": "code",
   "execution_count": 125,
   "id": "28ce0a74",
   "metadata": {},
   "outputs": [
    {
     "data": {
      "text/plain": [
       "(0.5764238354702993, 0.018756335074232668)"
      ]
     },
     "execution_count": 125,
     "metadata": {},
     "output_type": "execute_result"
    }
   ],
   "source": [
    "#Training set CV mean and std\n",
    "hgb_mae_mean = np.mean(-1 * hgb_neg_mae['test_score'])\n",
    "hgb_mae_std = np.std(-1 * hgb_neg_mae['test_score'])\n",
    "hgb_mae_mean, hgb_mae_std"
   ]
  },
  {
   "cell_type": "code",
   "execution_count": 126,
   "id": "2a2c9163",
   "metadata": {},
   "outputs": [
    {
     "data": {
      "text/plain": [
       "0.5556918497220534"
      ]
     },
     "execution_count": 126,
     "metadata": {},
     "output_type": "execute_result"
    }
   ],
   "source": [
    "# Test set mean\n",
    "mean_absolute_error(y_test, hgb_grid_cv.best_estimator_.predict(X_test))"
   ]
  },
  {
   "cell_type": "markdown",
   "id": "be8e1088",
   "metadata": {},
   "source": [
    "#### Mean Squared Error (MSE)"
   ]
  },
  {
   "cell_type": "code",
   "execution_count": 127,
   "id": "11667f8c",
   "metadata": {},
   "outputs": [],
   "source": [
    "hgb_neg_mse = cross_validate(hgb_grid_cv.best_estimator_, X_train, y_train, \n",
    "                            scoring='neg_mean_squared_error', cv=5)"
   ]
  },
  {
   "cell_type": "code",
   "execution_count": 128,
   "id": "7c2ec32b",
   "metadata": {},
   "outputs": [
    {
     "data": {
      "text/plain": [
       "(0.5723203610254688, 0.0474732352666744)"
      ]
     },
     "execution_count": 128,
     "metadata": {},
     "output_type": "execute_result"
    }
   ],
   "source": [
    "#Training set CV mean and std\n",
    "hgb_mse_mean = np.mean(-1 * hgb_neg_mse['test_score'])\n",
    "hgb_mse_std = np.std(-1 * hgb_neg_mse['test_score'])\n",
    "hgb_mse_mean, hgb_mse_std"
   ]
  },
  {
   "cell_type": "code",
   "execution_count": 129,
   "id": "3703b2eb",
   "metadata": {},
   "outputs": [
    {
     "data": {
      "text/plain": [
       "0.529248951734062"
      ]
     },
     "execution_count": 129,
     "metadata": {},
     "output_type": "execute_result"
    }
   ],
   "source": [
    "# Test set mean\n",
    "mean_squared_error(y_test, hgb_grid_cv.best_estimator_.predict(X_test))"
   ]
  },
  {
   "cell_type": "markdown",
   "id": "d212fc09",
   "metadata": {},
   "source": [
    "#### Root Mean Square Error (RMSE)"
   ]
  },
  {
   "cell_type": "code",
   "execution_count": 130,
   "id": "8deab803",
   "metadata": {},
   "outputs": [],
   "source": [
    "hgb_neg_rmse = cross_validate(hgb_grid_cv.best_estimator_, X_train, y_train, \n",
    "                            scoring='neg_root_mean_squared_error', cv=5)"
   ]
  },
  {
   "cell_type": "code",
   "execution_count": 131,
   "id": "79a27977",
   "metadata": {},
   "outputs": [
    {
     "data": {
      "text/plain": [
       "(0.7558722752013171, 0.03126443038747497)"
      ]
     },
     "execution_count": 131,
     "metadata": {},
     "output_type": "execute_result"
    }
   ],
   "source": [
    "#Training set CV mean and std\n",
    "hgb_rmse_mean = np.mean(-1 * hgb_neg_rmse['test_score'])\n",
    "hgb_rmse_std = np.std(-1 * hgb_neg_rmse['test_score'])\n",
    "hgb_rmse_mean, hgb_rmse_std"
   ]
  },
  {
   "cell_type": "code",
   "execution_count": 132,
   "id": "1dd4f608",
   "metadata": {},
   "outputs": [
    {
     "data": {
      "text/plain": [
       "0.7274949839923722"
      ]
     },
     "execution_count": 132,
     "metadata": {},
     "output_type": "execute_result"
    }
   ],
   "source": [
    "# Test set mean\n",
    "np.sqrt(mean_squared_error(y_test, hgb_grid_cv.best_estimator_.predict(X_test)))"
   ]
  },
  {
   "cell_type": "markdown",
   "id": "e0410278",
   "metadata": {},
   "source": [
    "### Data Quality Assessment (HGB Model)"
   ]
  },
  {
   "cell_type": "code",
   "execution_count": 133,
   "id": "a688fa8e",
   "metadata": {},
   "outputs": [],
   "source": [
    "fractions = [.2, .25, .3, .35, .4, .45, .5, .6, .75, .8, .9, 1.0]\n",
    "train_size, train_scores, test_scores = learning_curve(HGB_pipe, X_train, y_train, train_sizes=fractions)\n",
    "train_scores_mean = np.mean(train_scores, axis=1)\n",
    "train_scores_std = np.std(train_scores, axis=1)\n",
    "test_scores_mean = np.mean(test_scores, axis=1)\n",
    "test_scores_std = np.std(test_scores, axis=1)"
   ]
  },
  {
   "cell_type": "code",
   "execution_count": 134,
   "id": "2c10bc8f",
   "metadata": {},
   "outputs": [
    {
     "data": {
      "image/png": "[encoded data removed]",
      "text/plain": [
       "<Figure size 720x360 with 1 Axes>"
      ]
     },
     "metadata": {
      "needs_background": "light"
     },
     "output_type": "display_data"
    }
   ],
   "source": [
    "plt.subplots(figsize=(10, 5))\n",
    "plt.errorbar(train_size, test_scores_mean, yerr=test_scores_std)\n",
    "plt.xlabel('Training set size')\n",
    "plt.ylabel('CV scores')\n",
    "plt.title('Cross-validation score as training set size increases');"
   ]
  },
  {
   "cell_type": "markdown",
   "id": "730c2592",
   "metadata": {},
   "source": [
    "## Save Best Model Object From Pipeline"
   ]
  },
  {
   "cell_type": "code",
   "execution_count": 135,
   "id": "764d236f",
   "metadata": {},
   "outputs": [],
   "source": [
    "best_model = hgb_grid_cv.best_estimator_\n",
    "best_model.version = '1.0'\n",
    "best_model.pandas_version = pd.__version__\n",
    "best_model.numpy_version = np.__version__\n",
    "best_model.sklearn_version = sklearn_version\n",
    "best_model.X_columns = [col for col in X_train.columns]\n",
    "best_model.build_datetime = datetime.datetime.now()"
   ]
  },
  {
   "cell_type": "code",
   "execution_count": 136,
   "id": "8c466d1b",
   "metadata": {},
   "outputs": [
    {
     "name": "stdout",
     "output_type": "stream",
     "text": [
      "A file already exists with this name.\n",
      "\n",
      "Do you want to overwrite? (Y/N)Y\n",
      "Writing file.  \"../models\\hospital_RR_model.pkl\"\n"
     ]
    }
   ],
   "source": [
    "# save the model\n",
    "modelpath = '../models'\n",
    "save_file(best_model, 'hospital_RR_model.pkl', modelpath)"
   ]
  },
  {
   "cell_type": "markdown",
   "id": "71efa0a5",
   "metadata": {},
   "source": [
    "## Summary of Modeling"
   ]
  },
  {
   "cell_type": "markdown",
   "id": "f1b32927",
   "metadata": {},
   "source": [
    "* The final data consisted of the ~2,500 US hospitals - ~65% of all hospitals in the original CMS data set- that both had available target data (Readmission Rate) and at least 200 inpatient admissions in the previous year. \n",
    "\n",
    "\n",
    "* Data were subject to a 70/30 training/testing split. 5-fold training cross validation was performed for each model described below prior to test set prediction. For each model, metrics evaluated for both cross-validation on the training set and for the test set were R-squared, MAE, MSE, and RMSE. Summarized below is cross-validation RMSE (and SD thereof for all but the Dummy Model), though each metric tracked roughly proportionately across models. \n",
    "\n",
    "\n",
    "* Average Readmission Rate was first explored as a baseline measure of performance. \n",
    "  * Readmission Rate predicted simply by average price in the training set yielded a mean prediction error of .83% from average actual Readmission Rate in cross-validation on the training set (RMSE). Test set mean prediction error with the dummy model was very similar to that with the training set (.84%).\n",
    "\n",
    "\n",
    "* Next a Linear Regression model was built, which was optimized in terms of K-best features (which turned out to be k = 10). In constucting this model, it was also determined that the best missing values imputation method was to use the mean and the best scaling strategy was to not use any scaling. \n",
    "    * The best Linear model yielded a mean prediction error of .78% (.02%) from actual Readmission Rate in cross-validation on the training set (RMSE). Test set mean prediction error was very similar to training set (.78%). \n",
    "    * Best Linear model outperformed the baseline model in both training set cross-validation and test set testing\n",
    "\n",
    "\n",
    "* A Random Forest Regression model was constructed next, with a hyperparameter grid search used to select best imputation method (mean), scaling (none), and number of estimators/trees (1,000). The best Random Forest model yielded a mean prediction error of .75% (.03%) from actual Readmission Rate in cross-validation on the training set (RMSE). Test set mean prediction error was very similar to training set (.72%).\n",
    "    * Best Random Forest model outperformed both the baseline model and Linear model\n",
    "\n",
    "\n",
    "* Next, several ensemble models were constructed, starting with a Gradient Boosting Regression model. A hyperparameter grid search used to select best imputation method (mean), scaling (none), number of estimators/trees (50), learning rate (.05), maximum depth (6), and maximum number of features (6). The best Gradient Boosting model yielded a prediction error of .75% (.03%) from actual Readmission Rate in cross-validation on the training set (RMSE). Test set mean prediction error was slightly lower than with the training set (.72%). \n",
    "    * Best Gradient Boosting model outperformed both the baseline model and Linear model, and nearly equivalently to Random Forest with substantially less computational time. \n",
    " \n",
    "\n",
    "* Finally, a HistGradient Boosting Regression ensemble model was constructed. A hyperparameter grid search used to select best imputation method (mean), scaling (none), number of iterations/trees (50), learning rate (.06) and maximum depth (6). The best HistGradient Boosting model yielded a prediction error of .76% (.03) from actual Readmission Rate in cross-validation on the training set (RMSE). Test set mean prediction error was slightly lower than with the training set (.73%).  \n",
    "    * Best HistGradient Boosting model outperformed both the baseline model and Linear model, and nearly equivalently to Random Forest and Gradient Boosting with substantially less computational time than even the other decision tree models (as well as less hyperparameter tuning). \n",
    "    \n",
    "\n",
    "* Data quality assessment on the HistGradient Boosting model suggested that performance continued to improve up to close to the training set maximum of ~1,300 hospitals. While more data would possibly yield better model performance, the decision was made to keep the ~1000 hospitals with fewer than 200 inpatient cases in the previous year out of the final analysis\n",
    "    * These \"small\" hospitals had a disproportionate amount of missing values across predictve features, and there is also likely an increase in noise around Readmission Rate at these low numbers that might offset any advantages to adding data.\n",
    "    * Furthermore, our client hospital had a relatively high number of inpatient admissions- 2,700. Thus, including hospitals with very small samples is likely to be less relevant to what drives Readmission Rate at a larger hospital like our client's. \n",
    "\n"
   ]
  },
  {
   "cell_type": "code",
   "execution_count": null,
   "id": "1f665d8d",
   "metadata": {},
   "outputs": [],
   "source": []
  }
 ],
 "metadata": {
  "kernelspec": {
   "display_name": "Python 3",
   "language": "python",
   "name": "python3"
  },
  "language_info": {
   "codemirror_mode": {
    "name": "ipython",
    "version": 3
   },
   "file_extension": ".py",
   "mimetype": "text/x-python",
   "name": "python",
   "nbconvert_exporter": "python",
   "pygments_lexer": "ipython3",
   "version": "3.8.8"
  }
 },
 "nbformat": 4,
 "nbformat_minor": 5
}
